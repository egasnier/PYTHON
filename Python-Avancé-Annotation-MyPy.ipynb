{
 "cells": [
  {
   "cell_type": "markdown",
   "id": "7c943447-3e9a-4057-bb21-c32c0eb63eaf",
   "metadata": {},
   "source": [
    "# A - Les Annotations\n",
    "## 1. Introduction - Le typage en programmation\n",
    "Lorsque l'on apprend à coder en Python, la question du typage est une question que l'on ne considère que très rarement alors que celle-ci est incontournable avec un langage comme Java. D'où vient donc cet \"oubli\" de la part d'un des langages de programmation les plus utilisés du moment ?\n",
    "Pour répondre à cette question, il est important de creuser quelques notions de base.\n",
    "\n",
    "Le typage en programmation correspond simplement à la définition de la nature des valeurs que peut prendre les données que l'on manipule. Pour tester le type d'une variable en Python, on fait appel à la fonction type() qui retourne, sans surprise, le type de l'objet entré en paramètre de la fonction.\n",
    "La fonction s'utilise comme suit :\n",
    "\n",
    "a = 2 \n",
    "type_de_a = type(a)\n",
    "Le type de l'argument s'affiche à l'aide de la fonction print sous la forme :\n",
    "\n",
    ">>> <class 'int'>\n",
    "Dans l'exemple ci-dessus, on teste une variable numérique entière, le type correspondant est int. En Python, il existe une multitude de types dits natifs, vous trouverez la liste exhaustive sur le site de la documentation officielle.\n",
    "\n",
    "(a) Définissez une nouvelle variable appelée b dont le type sera str."
   ]
  },
  {
   "cell_type": "code",
   "execution_count": 1,
   "id": "7a9d66f1-61ff-4b3d-9fd0-56dfbd4ca543",
   "metadata": {},
   "outputs": [
    {
     "name": "stdout",
     "output_type": "stream",
     "text": [
      "<class 'str'>\n"
     ]
    }
   ],
   "source": [
    "b=\"hello\"\n",
    "type_de_b = type(b)\n",
    "print(type_de_b)"
   ]
  },
  {
   "cell_type": "markdown",
   "id": "18bf9b73-3e70-49e0-b813-b3d8826c3e40",
   "metadata": {},
   "source": [
    "Il existe plusieurs types de typages en programmation. On en distingue principalement deux : le typage statique et le typage dynamique.\n",
    "\n",
    "## Typage statique\n",
    "On appelle un langage à typage statique, un langage dans lequel chaque variable doit être assignée à un type précisé par le programmeur. Cette technique est adopté par de nombreux langages de programmation tels que Java, C ou C++.\n",
    "Cette approche du code offre quelques avantages dont notamment une certaine rigueur dans l'écriture et la définition des variables : il n'y a pas de doute sur la nature des variables et il devient d'autant plus facile pour l'interpréteur de repérer des erreurs liées au type.\n",
    "\n",
    "Prenons l'exemple de Java pour la définition d'une variable numérique, la syntaxe est la suivante :\n",
    "\n",
    "       int a = 2;\n",
    "       float b = 3.;\n",
    "       String c = 'Hello World';\n",
    "Pas besoin d'avoir une maîtrise de Java pour comprendre cette syntaxe. Chaque variable a, b ou c est introduite par le type de celle-ci et est suivie par la valeur attribuée. L'aspect statique du typage apparaît nettement et pour le vérifier, il suffit simplement de voir ce qu'il se passerait si l'on essayait d'assigner une nouvelle valeur à une des variables. Vous pouvez tentez par vous même sur ce compiler en ligne.\n",
    "\n",
    "Comme dit précédemment, l'un des avantages de ce typage est la rigueur qu'il entraîne, mais cela facilite également la lecture du code par une personne autre que le programmeur originel, ce qui est extrêmement intéressant dès lors que celui-ci écrit du code pour une entreprise. Par ailleurs, un autre point qu'il est important de mentionner est que la vérification de type est généralement faite lors de la compilation du code. Cela veut dire que l'exécution de ce dernier peut se faire à pleine vitesse ce qui n'est pas le cas pour un langage typé dynamiquement. En revanche, cette approche rend la programmation nettement plus rigide voire même fastidieuse par moment, ce qui peut en pousser plus d'un à s'orienter vers un langage de programmation à typage dynamique.\n",
    "\n",
    "## Typage dynamique\n",
    "Contrairement à Java, Python a opté pour un typage dit dynamique. Concrètement, cela veut dire qu'à la différence d'un langage statique, le typage n'est réalisé et vérifié qu'après l'exécution du code et pas avant.\n",
    "Outre une perte relative de vitesse d'exécution, qu'est-ce que cela implique ?\n",
    "\n",
    "Lorsque l'on définit une variable en Python, nous ne sommes pas obligés de préciser le type de celle-ci, il est reconnu par l'interpréteur.\n",
    "\n",
    "Exemple :\n",
    "\n",
    "variable = 'chaîne de caractère' \n",
    "print(type(variable))\n",
    "\n",
    "--- Exécution ---\n",
    "\n",
    ">>> <class 'str'>\n",
    "Une fois une variable définie, il est tout à fait possible de lui assigner une nouvelle valeur, peu importe son type, sans causer d'erreur.\n",
    "\n",
    "Exemple :\n",
    "\n",
    "variable = 'chaîne de caractère' \n",
    "print(type(variable))\n",
    "variable = 3 \n",
    "print(type(variable))\n",
    "\n",
    "--- Exécution ---\n",
    "\n",
    ">>> <class 'str'>\n",
    ">>> <class 'int'>\n",
    "Ce mécanisme peut paraître un peu contre-intuitif lorsque l'on est habitué à la rigidité usuelle de l'informatique, mais lorsque l'on sait comment Python gère le stockage en mémoire des variables, cela devient vite assez clair.\n",
    "Pour s'en rendre compte, on utilisera la fonction id de Python qui renvoie l'identifiant de la localisation en mémoire de l'objet pris en argument.\n",
    "\n",
    "(b) Définissez deux variables toutes deux égales à une même valeur numérique.\n",
    "(c) À l'aide de la fonction id, affichez les localisations des deux variables crées, ainsi que celle de la valeur numérique choisie.\n",
    "(d) Commentez."
   ]
  },
  {
   "cell_type": "code",
   "execution_count": 2,
   "id": "2c4ecaaf-037d-4fab-9a3d-7d72a83b9a82",
   "metadata": {},
   "outputs": [
    {
     "name": "stdout",
     "output_type": "stream",
     "text": [
      "id a : 1995558967536\n",
      "id b : 1995558967536\n",
      "1995558967536\n"
     ]
    }
   ],
   "source": [
    "# Insérez votre code ici \n",
    "a = \"hello\"\n",
    "b = \"hello\"\n",
    "print(\"id a :\",id(a))\n",
    "print(\"id b :\",id(b))\n",
    "print(id(\"hello\"))"
   ]
  },
  {
   "cell_type": "markdown",
   "id": "2c18f9dd-7eef-4fce-a8d3-aa7d503ab401",
   "metadata": {},
   "source": [
    "On constate que les identifiants sont les mêmes, autrement dit, tous ces objets sont stockés au même endroit. Informatiquement, sont-ils donc parfaitement égaux ? Pas tout à fait. En réalité Python alloue de la place en mémoire à des objets tels que des valeurs numériques, des chaînes de caractères... et la variable n'est qu'un raccourci qui permet de pointer vers cet objet.\n",
    "\n",
    "On comprend donc déjà mieux comment le typage dynamique fonctionne en Python, pour réattribuer une valeur à une variable, il s'agit donc simplement de rediriger le pointeur de cette variable vers le nouvel objet que l'on décide de lui assigner.\n",
    "\n",
    "## Typage dynamique ou typage statique ?\n",
    "À cette question, il n'y a pas de réponse fixe: c'est défini par le cadre de programmation. Si la mission exige une rigueur et une transparence absolue dans le code alors on optera pour un typage statique. Si le programmeur se voit laisser la main libre sur le code alors privilégier la flexibilité et la rapidité d'écriture d'un typage dynamique peut s'avérer être la solution intéressante.\n",
    "Mais alors, si l'on veut un typage statique, faut-il nécessairement éviter Python ?\n",
    "\n",
    "## 2. Les annotations ou le typage statique selon Python\n",
    "Pour simuler un typage statique, Python propose un système d'annotations, qui permet à l'utilisateur de préciser le type des variables que l'on souhaite avoir en argument d'une fonction ainsi le type voulu en sortie d'une fonction.\n",
    "\n",
    "Les annotations s'utilisent comme suit :\n",
    "\n",
    "def une_fonction(a : str='Hello World') -> None : \n",
    "   print(a)\n",
    "La fonction que l'on définit en exemple est extrêmement simple. Cette fonction qui prend en argument une chaine de caractère a, valant par défaut 'Hello World' et qui affiche cette chaîne de caractère en sortie.\n",
    "À cette définition, on précise deux annotations.\n",
    "\n",
    "La première annotation correspond au type de la variable souhaitée en argument, a : str. Ici, on indique que l'argument a entré par l'utilisateur de notre fonction doit être de type str.\n",
    "La deuxième annotation indique le type de la valeur en sortie de notre fonction, -> None. Ici, on indique que la fonction retourne rien, ce qui est cohérent avec son objectif d'afficher uniquement un résultat.\n",
    "Ces annotations sont accessibles à l'aide de l'attribut __annotations__, dans le cas de notre exemple, on aura les annotations suivantes :\n",
    "\n",
    "print(une_fonction.__annotations__)\n",
    "\n",
    "--- Exécution ---\n",
    "\n",
    ">>> {'a': str, 'return': None}\n",
    "(a) Définissez une nouvelle fonction qui calculera l'aire d'un rectangle. Elle prendra en argument la longueur et la largeur du rectangle, et retournera l'aire de ce dernier. Les variables de la fonction ainsi que son résultat seront annotés du type float.\n",
    "(b) Affichez les annotations de la fonction."
   ]
  },
  {
   "cell_type": "code",
   "execution_count": 3,
   "id": "4974b9a8-03aa-4b3f-8cb5-af5994978395",
   "metadata": {},
   "outputs": [
    {
     "name": "stdout",
     "output_type": "stream",
     "text": [
      "{'a': <class 'float'>, 'b': <class 'float'>, 'return': <class 'float'>}\n"
     ]
    }
   ],
   "source": [
    "#  fonction qui calculera l'aire d'un rectangle. Les variables et le return sont de type float\n",
    "\n",
    "def aire_rectangle(a:float = 0.0, b:float = 0.0) -> float:\n",
    "    return a*b\n",
    "\n",
    "\n",
    "print(aire_rectangle.__annotations__)"
   ]
  },
  {
   "cell_type": "markdown",
   "id": "f32ceda3-8a41-4ba2-a9bd-e06a3cf211ca",
   "metadata": {},
   "source": [
    "Néanmoins, ces annotations ne sont que des annotations et non pas des déclarations de type. En effet, cela ne suffit pas à changer la nature fondamentalement dynamique du typage en Python. En réalité, on peut même se permettre d'annoter nos fonctions avec ce que l'on veut sans enfreindre la bonne exécution de celle-ci.\n",
    "\n",
    "(c) Définissez une fonction afficher, qui prendra en argument une chaîne de caractères et qui affichera, sans retourner, cette dernière.\n",
    "(d) Annotez la fonction.\n",
    "(e) Exécutez la fonction avec un argument de type autre que str. Commentez."
   ]
  },
  {
   "cell_type": "code",
   "execution_count": 4,
   "id": "ac072b1d-37ca-4e27-8bd6-186be9ac6d39",
   "metadata": {},
   "outputs": [
    {
     "name": "stdout",
     "output_type": "stream",
     "text": [
      "1er test avec string\n",
      "True\n"
     ]
    }
   ],
   "source": [
    "def afficher(chaine : str) -> None:\n",
    "    print(chaine)\n",
    "\n",
    "afficher(\"1er test avec string\")\n",
    "\n",
    "afficher(True)"
   ]
  },
  {
   "cell_type": "markdown",
   "id": "5e1c731e-fe39-4b6b-a62e-60a9176a2614",
   "metadata": {},
   "source": [
    "Vous l'aurez remarqué, la fonction ne renvoie aucune erreur même si le type de l'argument entré ne correspond pas au type annoté au préalable. Encore une fois, ce système d'annotation n'est en réalité qu'un système d'indications, libre à l'utilisateur de suivre ces indications ou non. Toutefois, il existe un outil tiers qui permet d'effectuer la vérification de type et de permettre à Python de bénéficier d'une vérification de type comme un vrai langage statique.\n",
    "\n",
    "## 3. MyPy\n",
    "MyPy est une librairie Python développée pour permettre à un utilisateur de vérifier le typage statique d'un code. Elle fonctionne de paire avec les annotations et s'assurent donc que celles-ci sont bien respectées. À défaut de rendre invalide le code si le typage n'est pas respecté, MyPy renvoie un rapport détaillé des erreurs rencontrés même si celui s'exécutera toujours si l'erreur n'est pas plus profonde.\n",
    "La façon la plus courante de l'utiliser est de l'employer comme un débugger selon le schéma suivant :\n",
    "\n",
    "Rédiger son code Python et l'enregistrer comme un fichier .py.\n",
    "Sur un terminal, entrer la commande suivante : mypy mon_fichier.py\n",
    "Si des erreurs sont détectées elles seront renvoyées par MyPy précisant le type de l'erreur, sa position dans le code ainsi que la cause de l'erreur.\n",
    "\n",
    "Pour faire fonctionner MyPy dans un jupyter notebook, nous allons définir un magic. Nous ne rentrerons pas en détail là dessus, sachez juste que cela permet d'incorporer les fonctionnalités de vérification de type proposés par MyPy lors de l'exécution des cellules Jupyter.\n",
    "\n",
    "(a) Exécutez la cellule suivante pour instancier MyPy sur Jupyter."
   ]
  },
  {
   "cell_type": "code",
   "execution_count": 5,
   "id": "cf8a46a2-922e-4956-8185-581c9badcfaf",
   "metadata": {},
   "outputs": [],
   "source": [
    "from IPython.core.magic import register_cell_magic\n",
    "@register_cell_magic\n",
    "def typecheck(line, cell):\n",
    "    from IPython import get_ipython\n",
    "    from mypy import api\n",
    "    cell = '\\n' + cell\n",
    "    mypy_result = api.run(['-c', cell] + line.split())\n",
    "    if mypy_result[0]: \n",
    "        print(mypy_result[0])\n",
    "    if mypy_result[1]:  \n",
    "        print(mypy_result[1])\n",
    "    shell = get_ipython()\n",
    "    shell.run_cell(cell)\n"
   ]
  },
  {
   "cell_type": "markdown",
   "id": "cef67c87-b6ee-45ff-846e-1fbe0afc1131",
   "metadata": {},
   "source": [
    "Dès lors que cette cellule est lancée, il suffit de faire paraître %%typecheck au début de chacune des cellules dont on souhaite vérifier le type. Faîtes attention au fait que les magic doivent être dans la première ligne de la cellule... Il faudra donc certainement supprimer les commentaires en début de cellule de réponse.\n",
    "\n",
    "(b) Définissez une fonction qui prendra en argument une liste et qui retournera une nouvelle liste à laquelle on ajoute un élement au choix. Précisez les annotations correspondantes.\n",
    "(c) Exécutez la fonction avec en argument une liste quelconque et en faisant attention à bien mentionner le magic de vérification de type."
   ]
  },
  {
   "cell_type": "code",
   "execution_count": 7,
   "id": "e349d3b0-da6b-4444-ac57-36df036a17d4",
   "metadata": {},
   "outputs": [
    {
     "name": "stdout",
     "output_type": "stream",
     "text": [
      "Success: no issues found in 1 source file\n",
      "\n",
      "['1+1 =', '2']\n"
     ]
    }
   ],
   "source": [
    "%%typecheck\n",
    "\n",
    "\n",
    "def function(L : list) -> list:\n",
    "    L = L + ['2']\n",
    "    return(L)\n",
    "           \n",
    "print(function(['1+1 =']))"
   ]
  },
  {
   "cell_type": "markdown",
   "id": "b3b79fb3-3def-44a7-b15d-66081d9d5052",
   "metadata": {},
   "source": [
    "On obtient, en plus du retour de notre fonction, un message qui atteste du bon fonctionnement de notre typage.\n",
    "Essayons de voir le cas de figure contraire, celui où le typage n'aurait pas été valide.\n",
    "\n",
    "(d) Définissez une nouvelle fonction double qui prendra en argument un entier (type int) et retournera le double de cet entier (type int).\n",
    "(e) À l'aide de cette fonction, afficher le double de 27.6. Observez."
   ]
  },
  {
   "cell_type": "code",
   "execution_count": 8,
   "id": "08a64f11-2314-492e-b610-740ce0439136",
   "metadata": {},
   "outputs": [
    {
     "name": "stdout",
     "output_type": "stream",
     "text": [
      "usage: mypy [-h] [-v] [-V] [more options; see below]\n",
      "            [-m MODULE] [-p PACKAGE] [-c PROGRAM_TEXT] [files ...]\n",
      "mypy: error: May only specify one of: module/package, files, or command.\n",
      "\n"
     ]
    },
    {
     "data": {
      "text/plain": [
       "55.2"
      ]
     },
     "execution_count": 8,
     "metadata": {},
     "output_type": "execute_result"
    }
   ],
   "source": [
    "%%typecheck    # ne fonctionne pas sous spyder  sinon pour spyder => sous cmd sous (spyder-env) D:\\_spyder_py\\01.DataScientest>mypy test_mypy.py\n",
    "\n",
    "def double(a : int) -> int:\n",
    "    return 2*a\n",
    "\n",
    "\n",
    "double(27.6)"
   ]
  },
  {
   "cell_type": "markdown",
   "id": "075eb398-70b9-4e19-9741-969a9fa628bd",
   "metadata": {},
   "source": [
    "Bien que la fonction s'exécute et retourne la valeur attendue, MyPy nous renvoie un message d'erreur indiquant que le typage annoté n'a pas été respecté.   \n",
    "Ce message se lit de la façon suivante :\n",
    "\n",
    "La position de l'erreur désignée par le numéro de la ligne où elle est repérée, ici elle correspond au numéro de la ligne où l'on exécute notre fonction double().\n",
    "La cause de l'erreur, ici il s'agit de l'incompatibilité entre le type du premier argument entré, float, et le type de l'argument attendu, int.\n",
    "Un récapitulatif du nombre d'erreurs recensées par MyPy.\n",
    "Ce type d'erreur rapporté par la librairie est le plus classique, mais il en existe d'autres auxquels on peut s'attendre.\n",
    "\n",
    "(f) Toujours à partir de la fonction double(), exécutez celle-ci en prenant comme argument un vecteur numérique quelconque appartenant à la classe numpy.array. N'oubliez pas d'importer le package correspondant."
   ]
  },
  {
   "cell_type": "code",
   "execution_count": 9,
   "id": "59c3850b-6794-41f3-b30d-89a791d48193",
   "metadata": {},
   "outputs": [
    {
     "name": "stdout",
     "output_type": "stream",
     "text": [
      "<string>:7: error: Name \"double\" is not defined\n",
      "Found 1 error in 1 file (checked 1 source file)\n",
      "\n"
     ]
    },
    {
     "data": {
      "text/plain": [
       "array([ 4,  8, 12])"
      ]
     },
     "execution_count": 9,
     "metadata": {},
     "output_type": "execute_result"
    }
   ],
   "source": [
    "%%typecheck\n",
    "\n",
    "import numpy as np \n",
    "\n",
    "vec = np.array([2,4,6])\n",
    "\n",
    "double(vec)"
   ]
  },
  {
   "cell_type": "code",
   "execution_count": null,
   "id": "953194fb-5f03-4f1c-800f-6ca399311c23",
   "metadata": {},
   "outputs": [],
   "source": [
    "\"\"\"\n",
    "<string>:3: error: Skipping analyzing 'numpy': found module but no type hints or library stubs\n",
    "<string>:3: note: See https://mypy.readthedocs.io/en/latest/running_mypy.html#missing-imports\n",
    "<string>:7: error: Name 'double' is not defined\n",
    "Found 2 errors in 1 file (checked 1 source file)\n",
    "\"\"\""
   ]
  },
  {
   "cell_type": "markdown",
   "id": "ed24f137-3323-416c-a102-b6d0e4eab62c",
   "metadata": {},
   "source": [
    "Ici, on remarque que deux \"erreurs\" sont retournées alors qu'on ne s'attendait qu'à une sur l'incompatibilité de type.\n",
    "\n",
    "La première correspond au fait que les annotations de type ('type hints') ne sont pas fournies avec la version de numpy que nous avons importé. Par conséquent, bien que MyPy reconnaisse l'import de numpy dans notre cellule, il n'est pas en mesure de reconnaitre les nouveaux types qui accompagnent cette librairie, dont les types numpy.array.\n",
    "Pour palier ce problème soit il est possible de télécharger indépendamment les annotations des nouveaux types qu'introduisent la librairie soit ces annotations sont disponibles dans des versions plus récentes de la librairie en question.\n",
    "La deuxième erreur vient du fonctionnement même du magic MyPy, cette erreur n'aurait pas été relevée lors d'une utilisation \"classique\" de la librairie, donc sans passer par un magic Jupyter. En effet, bien que l'on ait défini sans problème la fonction double() dans une cellule plus haut, celle-ci n'est plus reconnue par MyPy dans une nouvelle cellule. Une utilisation optimale de MyPy sur Jupyter serait donc de regrouper tout notre code dans une seule et même cellule afin de vérifier le typage efficacement sans biaiser le rapport fourni par de fausses erreurs telles que celle-ci.  \n",
    "\n",
    "## Conclusion\n",
    "En programmation, on distingue deux méthodes de typages, le typage statique rigide et rigoureux, et le typage dynamique, simple et flexible.\n",
    "En Python natif, le typage est dynamique mais l'on peut tout de même se rapprocher d'un typage statique à l'aide des annotations qui fournissent une aide à la lecture et au développement en statique légèrement plus rigoureuse. Néanmoins les erreurs d'annotations restent indétectables.\n",
    "Pour palier ceci, il existe des outils de détection de type tels que MyPy qui, couplé au système natif d'annotations, permet de détecter les erreurs de typage et ainsi rendre le code en Python plus propre. Cette méthode reste limitée contrairement à un typage statique natif.\n",
    "De nombreuses libraries utilisent les annotations pour permettre, par exemple, de générer une documentation de manière automatique."
   ]
  },
  {
   "cell_type": "code",
   "execution_count": null,
   "id": "f9f4b831-9747-44bc-84cc-99111451ad8c",
   "metadata": {},
   "outputs": [],
   "source": []
  }
 ],
 "metadata": {
  "kernelspec": {
   "display_name": "Python 3 (ipykernel)",
   "language": "python",
   "name": "python3"
  },
  "language_info": {
   "codemirror_mode": {
    "name": "ipython",
    "version": 3
   },
   "file_extension": ".py",
   "mimetype": "text/x-python",
   "name": "python",
   "nbconvert_exporter": "python",
   "pygments_lexer": "ipython3",
   "version": "3.9.13"
  }
 },
 "nbformat": 4,
 "nbformat_minor": 5
}
