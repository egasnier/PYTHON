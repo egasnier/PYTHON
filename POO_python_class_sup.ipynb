{
 "cells": [
  {
   "cell_type": "markdown",
   "id": "e5f6b237-f55a-4109-99fb-4f6988bd977e",
   "metadata": {},
   "source": [
    "# Programmation Orientée Objet \n",
    "## Les classes \n",
    "### Introduction et pré-requis\n",
    "En Python et dans de nombreux autres langages de programmation, la programmation orientée objet consiste à créer des classes d’objets qui contiennent des informations spécifiques et des outils adaptés à leur manipulation.\n",
    "\n",
    "Tous les outils que nous utilisons pour faire de la data science (DataFrames, modèles de scikit-learn, matplotlib,...) sont construits de cette manière. Comprendre les mécaniques des objets Python et savoir les utiliser est essentiel pour pouvoir exploiter toutes les fonctionnalités de ces outils bien pratiques.\n",
    "\n",
    "De plus, la programmation orientée objet donne au développeur la flexibilité de réadapter un objet à ses besoins grâce à la notion d'héritage que nous verrons en deuxième partie. En effet, cette technique est très utilisée pour développer des packages tels que scikit-learn qui permettent à un utilisateur de développer et évaluer facilement les modèles dont il a besoin.\n",
    "\n",
    "Pour aborder ces modules dans les meilleures conditions, il est important d'avoir fait le module d'introduction à la programmation Python.\n",
    "\n",
    "### Les Classes\n",
    "En Python, une classe est définie de la manière suivante:"
   ]
  },
  {
   "cell_type": "code",
   "execution_count": 1,
   "id": "209d47db-1f02-4de0-b11c-028aaa04b2ea",
   "metadata": {},
   "outputs": [],
   "source": [
    "class Vehicule: # définition de la classe Vehicule\n",
    "   def __init__(self, a, b = []):\n",
    "       self.seats = a  # nombre de places dans le vehicule  \n",
    "       self.passengers = b  #liste contenant le nom des passagers\n",
    "   def print_passengers(self):\n",
    "       for i in range(len(self.passengers)):\n",
    "           print(self.passengers[i])\n",
    "\n",
    "voiture1= Vehicule(4, ['Pierre','Adrian']) # déclaration d'un objet de la classe Vehicule"
   ]
  },
  {
   "cell_type": "markdown",
   "id": "fa23fda6-8819-42e7-954b-7edd6e632fd5",
   "metadata": {},
   "source": [
    "Le code ci-dessus correspond à la définition d'une classe nommée Vehicule qui contient 2 informations: le nombre de places du Vehicule dans la variable seats et les noms des passagers à bord du Vehicule dans la variable passengers.\n",
    "\n",
    "Cette classe contient une méthode print_passengers qui permet d’afficher les noms des passagers à bord dans la console.\n",
    "\n",
    "L'instruction voiture1 = Vehicule(4, ['Pierre', 'Adrian']) correspond à une instanciation de la classe Vehicule.\n",
    "\n",
    "**Remarques et définitions importantes**\n",
    "- Vehicule est une classe d'objets.\n",
    "- voiture1 est une instance de la classe Vehicule\n",
    "- seats et passengers sont appelés les attributs ou membres de la classe Vehicule\n",
    "- Les fonctions définies dans la classe Vehicule comme print_passengers et __init__ sont appelées les méthodes de la classe Vehicules\n",
    "- La méthode __init__ prend en argument les variables qui définiront les attributs d’une instance lors de sa création.  \n",
    "\n",
    "     - La méthode init est automatiquement appelée lors de l’instanciation de n’importe quelle classe.   \n",
    "       Toutes les méthodes définies au sein d’une classe ont comme premier paramètre l’argument self. Ce paramètre sert à préciser à la méthode l’instance qui l’a appelée.   \n",
    "       \n",
    "En vous inspirant de la classe Vehicule définie ci-dessus :\n",
    "\n",
    "- Définir une nouvelle classe Complexe à 2 attributs:\n",
    "- partie_re qui contient la partie réelle du Complexe\n",
    "- partie_im qui contient la partie imaginaire Complexe\n",
    "- Définir dans la classe Complexe une méthode afficher qui permet d'afficher un Complexe sous sa forme algébrique a ± bi.    \n",
    "\n",
    "Il faudra adapter cette méthode au signe de la partie imaginaire (L'affichage devrait donner 4 - 2i, 6 + 2,5i).\n",
    "\n",
    "- Instancier deux Complexe correspondant au nombres complexes  4+5i  et  3−2i  puis les afficher sur la console."
   ]
  },
  {
   "cell_type": "code",
   "execution_count": 2,
   "id": "7dc2532f-c724-4521-921a-578ee4e1d7a4",
   "metadata": {},
   "outputs": [
    {
     "name": "stdout",
     "output_type": "stream",
     "text": [
      "-2  -  1.3 i\n"
     ]
    }
   ],
   "source": [
    "class Complexe:\n",
    "    def __init__(self, partie_re, partie_im):\n",
    "        self.partie_re = partie_re\n",
    "        self.partie_im = partie_im\n",
    "    def afficher_z(self):\n",
    "        if self.partie_im < 0:\n",
    "            print(self.partie_re,\" - \",-self.partie_im,\"i\")    # le - devant self transforme la partie_im en +, et avec le - du print c'est OK !\n",
    "        elif self.partie_im > 0:\n",
    "            print(self.partie_re,\" + \",self.partie_im,\"i\")\n",
    "        else:\n",
    "            print(self.partie_re)\n",
    "        \n",
    "z = Complexe(-2, -1.3)\n",
    "z.afficher_z()\n"
   ]
  },
  {
   "cell_type": "markdown",
   "id": "5d5c5444-6e9c-456e-a68e-1e8b863d71ef",
   "metadata": {},
   "source": [
    "- Une fois qu'un objet d'une classe est instancié, il est possible d'acceder à ses attributs et méthodes en utilisant les commandes .attribut et .methode() comme ci-dessous:"
   ]
  },
  {
   "cell_type": "code",
   "execution_count": 3,
   "id": "79d0d4e7-d850-405f-97a6-dd2a8fbc8a5f",
   "metadata": {},
   "outputs": [
    {
     "name": "stdout",
     "output_type": "stream",
     "text": [
      "4\n",
      "Dimitri\n",
      "Charles\n",
      "Yohan\n"
     ]
    }
   ],
   "source": [
    "class Vehicule:\n",
    "    def __init__(self, a, b=[]):\n",
    "        self.seats = a\n",
    "        self.passengers = b\n",
    "    def print_passengers(self):\n",
    "        for i in range(len(self.passengers)):\n",
    "            print(self.passengers[i])\n",
    "\n",
    "\n",
    "\n",
    "#Lancez la cellule. Vous pouvez modifier l'instanciation pour faire apparaître les modifications.\n",
    "voiture2 = Vehicule(4,['Dimitri', 'Charles', 'Yohan'])\n",
    "\n",
    "print(voiture2.seats)          # Affichage de l'attribut seats\n",
    "voiture2.print_passengers()    # Execution de la méthode print_passengers"
   ]
  },
  {
   "cell_type": "markdown",
   "id": "0f6fe97d-d5b1-44c5-bd99-320f1cd5d6bf",
   "metadata": {},
   "source": [
    "La flexibilité des classes en programmation orientée objet permet au développeur d'enrichir une classe en lui ajoutant de nouveaux attributs et méthodes. Toutes les instances de cette classe pourront ensuite faire appel à ces méthodes. Par exemple, nous pouvons définir dans la classe Vehicule une nouvelle méthode add qui ajoutera un individu dans la liste des passagers:"
   ]
  },
  {
   "cell_type": "code",
   "execution_count": 4,
   "id": "d0834f47-d2ff-4a17-a23f-7c362c3e6312",
   "metadata": {},
   "outputs": [],
   "source": [
    "  class Vehicule:\n",
    "       def __init__(self, a, b=[]):\n",
    "           self.seats = a\n",
    "           self.passengers = b\n",
    "       def print_passengers(self):\n",
    "           for i in range(len(self.passengers)):\n",
    "               print(self.passengers[i])\n",
    "\n",
    "\n",
    "       def add(self,name): #Nouvelle méthode\n",
    "           self.passengers.append(name)"
   ]
  },
  {
   "cell_type": "markdown",
   "id": "146b5375-8e03-4e70-8777-04701a54ecab",
   "metadata": {},
   "source": [
    "En Python, une liste est une instance de la classe prédéfinie list.    \n",
    "Ainsi, l'appel de la méthode append se fait de la même façon que l'appel d'une méthode de la classe Vehicule ou Complexe."
   ]
  },
  {
   "cell_type": "code",
   "execution_count": 5,
   "id": "266b36d3-10e7-4fc7-9047-dd51e2d381e7",
   "metadata": {},
   "outputs": [
    {
     "name": "stdout",
     "output_type": "stream",
     "text": [
      "Charles\n",
      "Paul\n",
      "Raphaël\n"
     ]
    }
   ],
   "source": [
    "class Vehicule:\n",
    "    def __init__(self, a, b=[]):\n",
    "        self.seats = a\n",
    "        self.passengers = b\n",
    "    \n",
    "    def print_passengers(self):\n",
    "        for i in range(len(self.passengers)):\n",
    "            print(self.passengers[i])\n",
    "    \n",
    "    def add(self,name): #Nouvelle méthode\n",
    "        self.passengers.append(name)\n",
    "        \n",
    "\n",
    "voiture1 = Vehicule(4, ['Charles', 'Paul']) #declaration de l'instance voiture1\n",
    "voiture1.add('Raphaël')                     #ajout de 'Raphaël' dans la liste des passagers\n",
    "\n",
    "voiture1.print_passengers()                 #affichage de la liste des passagers dans la console\n"
   ]
  },
  {
   "cell_type": "markdown",
   "id": "29378663-bc72-4c35-beb9-4bdf04634e6b",
   "metadata": {},
   "source": [
    "- Définir dans la classe Complexe une méthode add qui prend en paramètre un Complexe et le somme à l'instance appelant la méthode. Le résultat de cette somme sera stocké dans les attributs du Complexe appelant la méthode.\n",
    "- Tester la nouvelle méthode add sur deux instances de la classe Complexe et afficher leur somme sur la console."
   ]
  },
  {
   "cell_type": "code",
   "execution_count": 6,
   "id": "e5ac37b9-7e6f-4d70-b819-7ade7497f0c5",
   "metadata": {},
   "outputs": [
    {
     "name": "stdout",
     "output_type": "stream",
     "text": [
      "1 + 4 i\n"
     ]
    }
   ],
   "source": [
    "class Complexe:\n",
    "    def __init__(self, a, b):\n",
    "        self.partie_re = a\n",
    "        self.partie_im = b\n",
    "    def afficher(self):\n",
    "        if(self.partie_im < 0):\n",
    "            print(self.partie_re,'-', -self.partie_im,'i')\n",
    "        if(self.partie_im == 0):\n",
    "            print(self.partie_re)\n",
    "        if(self.partie_im > 0):\n",
    "            print(self.partie_re, '+',self.partie_im,'i')\n",
    "    def add(self , c):\n",
    "        self.partie_re = self.partie_re + c.partie_re\n",
    "        self.partie_im = self.partie_im + c.partie_im\n",
    "        \n",
    "\n",
    "z1 = Complexe(2, 3)\n",
    "z2 = Complexe(-1, 1)\n",
    "\n",
    "z1.add(z2)\n",
    "z1.afficher()"
   ]
  },
  {
   "cell_type": "markdown",
   "id": "da578a3c-33c0-4486-97df-11cfa80d6fc8",
   "metadata": {},
   "source": [
    "## L'héritage\n",
    "L’héritage consiste à créer une sous-classe à partir d’une classe existante. On dit que cette nouvelle classe hérite de la première car elle aura automatiquement les mêmes attributs et méthodes.\n",
    "\n",
    "De plus, il est possible d’ajouter des attributs ou des méthodes qui seront spécifiques à cette sous-classe.\n",
    "\n",
    "Dans la première partie de ce module, nous avons introduit la classe Vehicule définie ainsi:"
   ]
  },
  {
   "cell_type": "code",
   "execution_count": 7,
   "id": "670061d1-afec-42a5-9f5c-3a8323cc9974",
   "metadata": {},
   "outputs": [],
   "source": [
    "class Vehicule: \n",
    "    def __init__(self, a, b = []):\n",
    "        self.seats = a   \n",
    "        self.passengers = b  \n",
    "    def print_passengers(self):\n",
    "        for i in range(len(self.passengers)):\n",
    "            print(self.passengers[i])\n",
    "    def add(self,name):\n",
    "            self.passengers.append(name)"
   ]
  },
  {
   "cell_type": "markdown",
   "id": "6231920b-dbdd-46e4-947e-143869c32830",
   "metadata": {},
   "source": [
    "Nous pouvons définir une classe Moto qui hérite de la classe Vehicule de la façon suivante:"
   ]
  },
  {
   "cell_type": "code",
   "execution_count": 9,
   "id": "357318bb-f211-4b6e-9d66-48febb9e41d2",
   "metadata": {},
   "outputs": [],
   "source": [
    "class Moto(Vehicule):\n",
    "    def __init__(self, b, c):\n",
    "        self.seats = 2\n",
    "        self.passengers = b\n",
    "        self.brand = c\n",
    "        \n",
    "moto1 = Moto(['Pierre','Dimitri'], 'Yamaha')"
   ]
  },
  {
   "cell_type": "markdown",
   "id": "d82cb737-8673-4bbd-ab77-28fe6f22dd6a",
   "metadata": {},
   "source": [
    "Grâce à l'héritage, nous pouvons faire appel à la méthode print_passengers définie dans la classe Vehicule sur une instance de la classe Moto.\n",
    "\n",
    "Lancez les cases suivantes pour vous en convaincre."
   ]
  },
  {
   "cell_type": "code",
   "execution_count": 10,
   "id": "9750c888-d115-434a-af40-54d1358570ee",
   "metadata": {},
   "outputs": [
    {
     "name": "stdout",
     "output_type": "stream",
     "text": [
      "Pierre\n",
      "Dimitri\n",
      "Yohann\n"
     ]
    }
   ],
   "source": [
    "class Vehicule: # définition de la classe Vehicule\n",
    "    def __init__(self, a, b = []):\n",
    "        self.seats = a  # nombre de places dans le vehicule  \n",
    "        self.passengers = b  # liste contenant le nom des passagers\n",
    "    \n",
    "    def print_passengers(self): # Affiche le nom de tous les passagers présents dans le véhicule\n",
    "        for i in range(len(self.passengers)):\n",
    "            print(self.passengers[i])\n",
    "    \n",
    "    def add(self,name): # Ajoute un nouveau passager dans la liste des passagers du véhicule\n",
    "            self.passengers.append(name)\n",
    "    \n",
    "class Moto(Vehicule):\n",
    "    def __init__(self, b, c):\n",
    "        self.seats = 2      # Le nombre de sièges est automatiquement initialisé à 2 et n'est pas modifié par les\n",
    "                            # arguments passés en paramètres.\n",
    "        self.passengers = b \n",
    "        self.brand = c\n",
    "\n",
    "moto1 = Moto(['Pierre','Dimitri'], 'Yamaha')\n",
    "moto1.add('Yohann')\n",
    "moto1.print_passengers()"
   ]
  },
  {
   "cell_type": "markdown",
   "id": "04ce5ef9-b0c5-46ec-b7e1-2256251458d5",
   "metadata": {},
   "source": [
    "Définir dans la classe Moto une méthode add qui ajoutera un nom passé en argument dans la liste des passagers en vérifiant qu'il reste des places disponibles. S'il ne reste pas de places sur la Moto, elle affichera Le véhicule est rempli. S'il en reste, la méthode ajoutera le nom à la liste et affichera le nombre de places restantes."
   ]
  },
  {
   "cell_type": "code",
   "execution_count": 12,
   "id": "8bb00f69-4369-41d0-9b4b-c105a05414c7",
   "metadata": {},
   "outputs": [],
   "source": [
    "class Moto(Vehicule):\n",
    "    def __init__(self, b, c):\n",
    "        self.seats = 2\n",
    "        self.passengers = b\n",
    "        self.brand = c\n",
    "        \n",
    "    def add(self, name):\n",
    "        if( len(self.passengers) <  self.seats):\n",
    "            self.passengers.append(name)\n",
    "            print('Il reste', self.seats - len(self.passengers), 'places')\n",
    "        else:\n",
    "            print(\"Le véhicule est rempli\")\n"
   ]
  },
  {
   "cell_type": "markdown",
   "id": "e27232a0-3c7e-4ef2-a39b-bcd57ebb4a3c",
   "metadata": {},
   "source": [
    "Quel est l'affichage de l'instruction Moto2.print_passengers()?:\n",
    "\n",
    "- A : Guillaume Charles Dimitri\n",
    "- B : Guillaume Charles\n",
    "- C : Le véhicule est rempli"
   ]
  },
  {
   "cell_type": "code",
   "execution_count": 15,
   "id": "5451b9a5-a5d6-4449-8fe4-058e9f7dd472",
   "metadata": {},
   "outputs": [
    {
     "name": "stdout",
     "output_type": "stream",
     "text": [
      "Le véhicule est rempli\n"
     ]
    }
   ],
   "source": [
    "voiture2 = Vehicule(3 , ['Antoine', 'Thomas', 'Raphaël'])\n",
    "Moto2 = Moto(['Guillaume', 'Charles'] , 'Honda')\n",
    "voiture2.add('Benjamin')\n",
    "Moto2.add('Dimitri')"
   ]
  },
  {
   "cell_type": "code",
   "execution_count": 16,
   "id": "9d0723ac-db8d-40da-85fe-fec0f3fbfeff",
   "metadata": {},
   "outputs": [
    {
     "name": "stdout",
     "output_type": "stream",
     "text": [
      "Guillaume\n",
      "Charles\n"
     ]
    }
   ],
   "source": [
    "Moto2.print_passengers()"
   ]
  },
  {
   "cell_type": "code",
   "execution_count": null,
   "id": "ea0a3266-a6fc-4f36-bfde-54c2c8bd2412",
   "metadata": {},
   "outputs": [],
   "source": [
    "# widget pour poser cette question et doner la réponse !!!"
   ]
  },
  {
   "cell_type": "code",
   "execution_count": 17,
   "id": "b71e2732-f444-4acb-a265-f26c4ece007d",
   "metadata": {},
   "outputs": [
    {
     "data": {
      "application/vnd.jupyter.widget-view+json": {
       "model_id": "582daa02b7a84ee2b9f0d84a2666d77d",
       "version_major": 2,
       "version_minor": 0
      },
      "text/plain": [
       "VBox(children=(ToggleButtons(button_style='success', options=('Reponse A', 'Reponse B', 'Reponse C'), tooltips…"
      ]
     },
     "metadata": {},
     "output_type": "display_data"
    }
   ],
   "source": [
    "import ipywidgets as widgets\n",
    "from IPython.display import display, Markdown\n",
    "from ipywidgets import VBox, Layout\n",
    "\n",
    "Question1 = widgets.ToggleButtons(\n",
    "    options=['Reponse A', 'Reponse B', 'Reponse C'],\n",
    "   # description='Choisir:',\n",
    "    disabled=False,\n",
    "    button_style='success', # 'success', 'info', 'warning', 'danger' or ''\n",
    "    tooltips=['Reponse A', 'Reponse B', 'Reponse C'],\n",
    "    value=None\n",
    "#     icons=['check'] * 3\n",
    ")\n",
    "\n",
    "Reponse1_A = \"<div class='alert alert-danger'>&#10008;&emsp;Faux : La méthode add de la classe <code style = 'background-color: transparent ; color : inherit'>Moto</code> n'ajoute pas d'individu dans la liste des passagers s'il ne reste plus de place, contrairement à la méthode add de la classe <code style = 'background-color: transparent ; color : inherit'>Vehicule</code>.</div>\"\n",
    "Reponse1_B = \"<div class='alert alert-success'>&#10004;&emsp;Correct ! En effet, lorsque l'instruction <code style = 'background-color: transparent ; color : inherit'>Moto2.add('Dimitri')</code> est lancée, elle n'ajoute pas 'Dimitri' dans la liste des passagers puisqu'il ne reste plus de place. </div>\"\n",
    "Reponse1_C = \"<div class='alert alert-danger'>&#10008;&emsp;Faux : La méthode <code style = 'background-color: transparent ; color : inherit'>print_passengers</code> n'affiche en aucun cas <code style = 'background-color: transparent ; color : inherit'>Le véhicule est rempli</code>.</div>\"\n",
    "\n",
    "output_question_1 = widgets.Output()\n",
    "output_question_1.layout = Layout( height='100px')\n",
    "#output.append_display_data(Markdown(''))\n",
    "output_question_1.append_stdout('')\n",
    "\n",
    "def update_output_question_1(change):\n",
    "    output_question_1.clear_output()\n",
    "    if(change['new'] == 'Reponse A'):\n",
    "        output_question_1.append_display_data(Markdown(Reponse1_A))\n",
    "    if(change['new'] == 'Reponse B'):\n",
    "        output_question_1.append_display_data(Markdown(Reponse1_B))\n",
    "    if(change['new'] == 'Reponse C'):\n",
    "        output_question_1.append_display_data(Markdown(Reponse1_C))\n",
    "\n",
    "    \n",
    "    \n",
    "Question1.observe(update_output_question_1, 'value')\n",
    "\n",
    "QCM1 = VBox(children = [Question1, output_question_1])\n",
    "display(QCM1)"
   ]
  },
  {
   "cell_type": "markdown",
   "id": "2191b6f3-0a44-4c78-ab9d-6382c7bb622d",
   "metadata": {},
   "source": [
    "Quel est l'affichage de l'instruction print(voiture2.seats)?\n",
    "- A : Antoine Thomas Raphael Benjamin\n",
    "- B : 4\n",
    "- C : Le véhicule est rempli\n",
    "- D : 3"
   ]
  },
  {
   "cell_type": "code",
   "execution_count": 18,
   "id": "2b7d1fd8-d12b-4ea1-a5e0-a541c8138546",
   "metadata": {},
   "outputs": [
    {
     "name": "stdout",
     "output_type": "stream",
     "text": [
      "3\n"
     ]
    }
   ],
   "source": [
    "print(voiture2.seats)"
   ]
  },
  {
   "cell_type": "code",
   "execution_count": 19,
   "id": "6abe8092-18a8-49f2-b756-880a16866aa9",
   "metadata": {},
   "outputs": [
    {
     "data": {
      "application/vnd.jupyter.widget-view+json": {
       "model_id": "e8b52eb6f0bf4a4c88073db0bc0338b4",
       "version_major": 2,
       "version_minor": 0
      },
      "text/plain": [
       "VBox(children=(ToggleButtons(button_style='success', options=('Reponse A', 'Reponse B', 'Reponse C', 'Reponse …"
      ]
     },
     "metadata": {},
     "output_type": "display_data"
    }
   ],
   "source": [
    "# widget pour cette question et réponse !!!\n",
    "\n",
    "Question2 = widgets.ToggleButtons(\n",
    "    options=['Reponse A', 'Reponse B', 'Reponse C','Reponse D'],\n",
    "   # description='Choisir:',\n",
    "    disabled=False,\n",
    "    button_style='success', # 'success', 'info', 'warning', 'danger' or ''\n",
    "    tooltips=['Reponse A', 'Reponse B', 'Reponse C','Reponse D'],\n",
    "    value = None\n",
    "#     icons=['check'] * 3\n",
    ")\n",
    "\n",
    "Reponse2_A = \"<div class='alert alert-danger'>&#10008;&emsp;Faux : L'attribut <code style = 'background-color: transparent ; color : inherit'>seats</code> est un entier qui contient le nombre de places dont dispose le véhicule. Il ne contient pas la liste des passagers.</div>\"\n",
    "Reponse2_B = \"<div class='alert alert-danger'>&#10008;&emsp;Faux : L'instance <code style = 'background-color: transparent ; color : inherit'>voiture2</code> a été initialisé avec seulement 3 places. L'attribut <code style = 'background-color: transparent ; color : inherit'>seats</code> reste inchangé.</div>\"\n",
    "Reponse2_C = \"<div class='alert alert-danger'>&#10008;&emsp;Faux : Cet output correspond à celui de la méthode <code style = 'background-color: transparent ; color : inherit'>add</code> qui n'est pas l'instruction appelée dans cette question.</div>\"\n",
    "Reponse2_D = \"<div class='alert alert-success'>&#10004;&emsp;Correct ! En effet, l'attribut <code style = 'background-color: transparent ; color : inherit'>seats</code> de l'instance <code style = 'background-color: transparent ; color : inherit'>voiture2</code> a été initialisé avec la valeur 3. Cette valeur reste inchangée.</div>\"\n",
    "output_question_2 = widgets.Output()\n",
    "output_question_2.layout = Layout( height='100px')\n",
    "#output.append_display_data(Markdown(''))\n",
    "output_question_2.append_stdout('')\n",
    "def update_output_question_2(change):\n",
    "    output_question_2.clear_output()\n",
    "    if(change['new'] == 'Reponse A'):\n",
    "        output_question_2.append_display_data(Markdown(Reponse2_A))\n",
    "    if(change['new'] == 'Reponse B'):\n",
    "        output_question_2.append_display_data(Markdown(Reponse2_B))\n",
    "    if(change['new'] == 'Reponse C'):\n",
    "        output_question_2.append_display_data(Markdown(Reponse2_C))\n",
    "    if(change['new'] == 'Reponse D'):\n",
    "        output_question_2.append_display_data(Markdown(Reponse2_D))\n",
    "\n",
    "Question2.observe(update_output_question_2, 'value')\n",
    "\n",
    "QCM2 = VBox(children = [Question2, output_question_2])\n",
    "display(QCM2)"
   ]
  },
  {
   "cell_type": "markdown",
   "id": "a7e72ef5-ffcc-43d4-b57d-432830ac9b4f",
   "metadata": {},
   "source": [
    "Pourquoi l'instruction voiture3 = Vehicule(4) est bien écrite mais l'instruction moto3 = Moto(6) renvoie une erreur?:\n",
    "- A : Une Moto ne peut pas avoir 6 places.\n",
    "- B : Le constructeur de la classe Voiture ne prend qu'un argument en paramètre.\n",
    "- C : Il manque un argument à l'initialisation de l'instance moto3."
   ]
  },
  {
   "cell_type": "code",
   "execution_count": 20,
   "id": "6bc5e376-c3d6-4c68-95be-04b034481f06",
   "metadata": {},
   "outputs": [
    {
     "data": {
      "application/vnd.jupyter.widget-view+json": {
       "model_id": "865ead0b83684cfd8ad033e03edcb64d",
       "version_major": 2,
       "version_minor": 0
      },
      "text/plain": [
       "VBox(children=(ToggleButtons(button_style='success', options=('Reponse A', 'Reponse B', 'Reponse C'), tooltips…"
      ]
     },
     "metadata": {},
     "output_type": "display_data"
    }
   ],
   "source": [
    "Question3=widgets.ToggleButtons(\n",
    "    options=['Reponse A', 'Reponse B', 'Reponse C'],\n",
    "   # description='Choisir:',\n",
    "    disabled=False,\n",
    "    button_style='success', # 'success', 'info', 'warning', 'danger' or ''\n",
    "    tooltips=['Reponse A', 'Reponse B', 'Reponse C'],\n",
    "    value = None\n",
    "#     icons=['check'] * 3\n",
    ")\n",
    "\n",
    "Reponse3_A = \"<div class='alert alert-danger'>&#10008;&emsp;Faux : Le premier argument passé en paramètre lors de l'instanciation d'un objet de la classe <code style = 'background-color: transparent ; color : inherit'>Moto</code> devrait être la liste des noms des passagers. Comme le type de l'attribut <code style = 'background-color: transparent ; color : inherit'>passengers</code> n'est pas défini, il est donc possible de passer n'importe quel type d'argument en paramètre du constructeur sans que Python ne renvoie une erreur.</div>\"\n",
    "Reponse3_B = \"<div class='alert alert-danger'>&#10008;&emsp;Faux : Le constructeur de la classe <code style = 'background-color: transparent ; color : inherit'>Voiture</code> prend 2 paramètres, mais le paramètre <code style = 'background-color: transparent ; color : inherit'>b</code> s'initialise par défaut avec une liste vide lorsque l'argument n'est pas renseigné. Il est donc possible d'initialiser une instance de la classe <code style = 'background-color: transparent ; color : inherit'>Voiture</code> avec 1 seul argument.</div>\"\n",
    "Reponse3_C = \"<div class='alert alert-success'>&#10004;&emsp;Correct ! En effet, le constructeur de la classe <code style = 'background-color: transparent ; color : inherit'>Moto</code> prend 2 arguments en paramètre dont aucun de dispose de valeur par défaut. Le constructeur ne parvient pas à créer l'instance.</div>\"\n",
    "output_question_3 = widgets.Output()\n",
    "output_question_3.layout = Layout( height='100px')\n",
    "#output.append_display_data(Markdown(''))\n",
    "output_question_3.append_stdout('')\n",
    "def update_output_question_3(change):\n",
    "    output_question_3.clear_output()\n",
    "    if(change['new'] == 'Reponse A'):\n",
    "        output_question_3.append_display_data(Markdown(Reponse3_A))\n",
    "    if(change['new'] == 'Reponse B'):\n",
    "        output_question_3.append_display_data(Markdown(Reponse3_B))\n",
    "    if(change['new'] == 'Reponse C'):\n",
    "        output_question_3.append_display_data(Markdown(Reponse3_C))\n",
    "\n",
    "    \n",
    "    \n",
    "Question3.observe(update_output_question_3, 'value')\n",
    "\n",
    "QCM3 = VBox(children = [Question3, output_question_3])\n",
    "display(QCM3)"
   ]
  },
  {
   "cell_type": "markdown",
   "id": "734c56e2-b638-43bb-9170-21e414eaae66",
   "metadata": {},
   "source": [
    "- Créer une classe Convoi qui contiendra 2 attributs: Le premier, nommé vehicule_list est une liste d'instances de type Vehicule et le deuxième length est le nombre total de véhicules dans le Convoi. Un convoi sera automatiquement initialisé avec 1 véhicule de 4 places sans passagers.\n",
    "- Définir dans la classe Convoi une méthode add_vehicule qui ajoutera un objet de type Vehicule à la fin de la liste des véhicules du convoi. Il ne faudra pas oublier de mettre à jour la longueur du convoi."
   ]
  },
  {
   "cell_type": "code",
   "execution_count": 21,
   "id": "c3e11cc1-91fc-42cb-b40d-a30a550ba713",
   "metadata": {},
   "outputs": [],
   "source": [
    "class Convoi:\n",
    "    def __init__(self):\n",
    "        self.vehicule_list = []   # initialisation de l'attribut vehicule_list avec une liste vide       \n",
    "        self.vehicule_list.append(Vehicule(4))\n",
    "        self.length = 1  # initialisation de l'attribut length à 1.\n",
    "    \n",
    "    def add_vehicule(self, vehicule):\n",
    "        self.vehicule_list.append(vehicule) # ajout du vehicule en fin de liste\n",
    "        self.length = self.length + 1 # mise à jour de la longueur du convoi"
   ]
  },
  {
   "cell_type": "markdown",
   "id": "d6209004-2ef3-45df-a656-cf4810daf2e2",
   "metadata": {},
   "source": [
    "- Initialiser une instance convoi1 de la classe Convoi.\n",
    "- Ajoutez le passager \"Albert\" dans le premier véhicule de l'instance convoi1.\n",
    "- Ajoutez une moto de marque \"Honda\" à convoi1 qui sera conduite par \"Raphael\"."
   ]
  },
  {
   "cell_type": "code",
   "execution_count": 22,
   "id": "3b245d81-d4d5-4d89-ae07-da6340c923e1",
   "metadata": {},
   "outputs": [],
   "source": [
    "convoi1 = Convoi() # Initialisation du convoi\n",
    "\n",
    "convoi1.vehicule_list[0].add('Albert') # Ajout de \"Albert\" dans le premier véhicule du convoi\n",
    "\n",
    "convoi1.add_vehicule(Moto(['Raphael'] , 'Honda')) # Il ne faut pas oublier que le premier paramètre du constructeur\n",
    "                                                    # de la classe Vehicule est une liste et non une chaîne de caractères"
   ]
  },
  {
   "cell_type": "markdown",
   "id": "44927ecd-3bf3-43e1-a999-91dc01e9c226",
   "metadata": {},
   "source": [
    "- Ecrire un petit script qui affichera tous les passagers dans convoi1."
   ]
  },
  {
   "cell_type": "code",
   "execution_count": 24,
   "id": "ab7f73f5-ea99-438e-aec4-ab7e6406d2d1",
   "metadata": {},
   "outputs": [
    {
     "name": "stdout",
     "output_type": "stream",
     "text": [
      "Albert\n",
      "Raphael\n"
     ]
    }
   ],
   "source": [
    "for vehicule in convoi1.vehicule_list: # On parcourt la liste de véhicules du convoi\n",
    "    vehicule.print_passengers() # On utilise la méthode print_passengers de la classe Vehicule."
   ]
  },
  {
   "cell_type": "markdown",
   "id": "27966fe6-97ca-416b-a8a5-7eaa835246d7",
   "metadata": {},
   "source": [
    "## Les classes prédéfinies \n",
    "En Python, de nombreuses classes prédéfinies telles que les classes list, tuple ou str sont régulièrement utilisées pour faciliter les tâches du développeur. Comme toutes les autres classes, elles disposent de leurs propres attributs et méthodes qui sont à la disposition de l'utilisateur.\n",
    "\n",
    "Un des grands intérêts de la programmation orientée objet est de pouvoir créer des classes et les partager avec d'autres développeurs. Ceci se fait grâce à des packages tels que numpy, pandas ou scikit-learn. Tous ces packages sont en fait des classes créées par d'autres développeurs de la communauté Python afin de nous donner des outils qui faciliteront le développement de nos propres algorithmes.\n",
    "\n",
    "Nous allons dans un premier temps aborder l'une des classes d'objets prédéfinies les plus importantes, la classe list, afin d'apprendre à l'exploiter au maximum de ses capacités.\n",
    "Ensuite, nous introduirons brièvement la classe DataFrame du package pandas et apprendrons à identifier et manipuler ses méthodes.\n",
    "\n",
    "### La classe list\n",
    "Utiliser la commande dir(list) pour afficher tous les attributs et méthodes de la classe list."
   ]
  },
  {
   "cell_type": "code",
   "execution_count": 25,
   "id": "225af51d-1657-4edf-9c63-35db23c4ca9e",
   "metadata": {},
   "outputs": [
    {
     "data": {
      "text/plain": [
       "['__add__',\n",
       " '__class__',\n",
       " '__class_getitem__',\n",
       " '__contains__',\n",
       " '__delattr__',\n",
       " '__delitem__',\n",
       " '__dir__',\n",
       " '__doc__',\n",
       " '__eq__',\n",
       " '__format__',\n",
       " '__ge__',\n",
       " '__getattribute__',\n",
       " '__getitem__',\n",
       " '__gt__',\n",
       " '__hash__',\n",
       " '__iadd__',\n",
       " '__imul__',\n",
       " '__init__',\n",
       " '__init_subclass__',\n",
       " '__iter__',\n",
       " '__le__',\n",
       " '__len__',\n",
       " '__lt__',\n",
       " '__mul__',\n",
       " '__ne__',\n",
       " '__new__',\n",
       " '__reduce__',\n",
       " '__reduce_ex__',\n",
       " '__repr__',\n",
       " '__reversed__',\n",
       " '__rmul__',\n",
       " '__setattr__',\n",
       " '__setitem__',\n",
       " '__sizeof__',\n",
       " '__str__',\n",
       " '__subclasshook__',\n",
       " 'append',\n",
       " 'clear',\n",
       " 'copy',\n",
       " 'count',\n",
       " 'extend',\n",
       " 'index',\n",
       " 'insert',\n",
       " 'pop',\n",
       " 'remove',\n",
       " 'reverse',\n",
       " 'sort']"
      ]
     },
     "execution_count": 25,
     "metadata": {},
     "output_type": "execute_result"
    }
   ],
   "source": [
    "dir(list)"
   ]
  },
  {
   "cell_type": "markdown",
   "id": "86fc6f70-701f-4bd8-a1c4-231035409dfb",
   "metadata": {},
   "source": [
    "- Utiliser la commande help(list) pour afficher la documentation de la classe list.   Cette documentation vous sera utile pour comprendre l'utilisation des méthodes d'une classe."
   ]
  },
  {
   "cell_type": "code",
   "execution_count": 26,
   "id": "ecb9f981-f1b1-448f-9429-4e8877b5ba31",
   "metadata": {},
   "outputs": [
    {
     "name": "stdout",
     "output_type": "stream",
     "text": [
      "Help on class list in module builtins:\n",
      "\n",
      "class list(object)\n",
      " |  list(iterable=(), /)\n",
      " |  \n",
      " |  Built-in mutable sequence.\n",
      " |  \n",
      " |  If no argument is given, the constructor creates a new empty list.\n",
      " |  The argument must be an iterable if specified.\n",
      " |  \n",
      " |  Methods defined here:\n",
      " |  \n",
      " |  __add__(self, value, /)\n",
      " |      Return self+value.\n",
      " |  \n",
      " |  __contains__(self, key, /)\n",
      " |      Return key in self.\n",
      " |  \n",
      " |  __delitem__(self, key, /)\n",
      " |      Delete self[key].\n",
      " |  \n",
      " |  __eq__(self, value, /)\n",
      " |      Return self==value.\n",
      " |  \n",
      " |  __ge__(self, value, /)\n",
      " |      Return self>=value.\n",
      " |  \n",
      " |  __getattribute__(self, name, /)\n",
      " |      Return getattr(self, name).\n",
      " |  \n",
      " |  __getitem__(...)\n",
      " |      x.__getitem__(y) <==> x[y]\n",
      " |  \n",
      " |  __gt__(self, value, /)\n",
      " |      Return self>value.\n",
      " |  \n",
      " |  __iadd__(self, value, /)\n",
      " |      Implement self+=value.\n",
      " |  \n",
      " |  __imul__(self, value, /)\n",
      " |      Implement self*=value.\n",
      " |  \n",
      " |  __init__(self, /, *args, **kwargs)\n",
      " |      Initialize self.  See help(type(self)) for accurate signature.\n",
      " |  \n",
      " |  __iter__(self, /)\n",
      " |      Implement iter(self).\n",
      " |  \n",
      " |  __le__(self, value, /)\n",
      " |      Return self<=value.\n",
      " |  \n",
      " |  __len__(self, /)\n",
      " |      Return len(self).\n",
      " |  \n",
      " |  __lt__(self, value, /)\n",
      " |      Return self<value.\n",
      " |  \n",
      " |  __mul__(self, value, /)\n",
      " |      Return self*value.\n",
      " |  \n",
      " |  __ne__(self, value, /)\n",
      " |      Return self!=value.\n",
      " |  \n",
      " |  __repr__(self, /)\n",
      " |      Return repr(self).\n",
      " |  \n",
      " |  __reversed__(self, /)\n",
      " |      Return a reverse iterator over the list.\n",
      " |  \n",
      " |  __rmul__(self, value, /)\n",
      " |      Return value*self.\n",
      " |  \n",
      " |  __setitem__(self, key, value, /)\n",
      " |      Set self[key] to value.\n",
      " |  \n",
      " |  __sizeof__(self, /)\n",
      " |      Return the size of the list in memory, in bytes.\n",
      " |  \n",
      " |  append(self, object, /)\n",
      " |      Append object to the end of the list.\n",
      " |  \n",
      " |  clear(self, /)\n",
      " |      Remove all items from list.\n",
      " |  \n",
      " |  copy(self, /)\n",
      " |      Return a shallow copy of the list.\n",
      " |  \n",
      " |  count(self, value, /)\n",
      " |      Return number of occurrences of value.\n",
      " |  \n",
      " |  extend(self, iterable, /)\n",
      " |      Extend list by appending elements from the iterable.\n",
      " |  \n",
      " |  index(self, value, start=0, stop=9223372036854775807, /)\n",
      " |      Return first index of value.\n",
      " |      \n",
      " |      Raises ValueError if the value is not present.\n",
      " |  \n",
      " |  insert(self, index, object, /)\n",
      " |      Insert object before index.\n",
      " |  \n",
      " |  pop(self, index=-1, /)\n",
      " |      Remove and return item at index (default last).\n",
      " |      \n",
      " |      Raises IndexError if list is empty or index is out of range.\n",
      " |  \n",
      " |  remove(self, value, /)\n",
      " |      Remove first occurrence of value.\n",
      " |      \n",
      " |      Raises ValueError if the value is not present.\n",
      " |  \n",
      " |  reverse(self, /)\n",
      " |      Reverse *IN PLACE*.\n",
      " |  \n",
      " |  sort(self, /, *, key=None, reverse=False)\n",
      " |      Sort the list in ascending order and return None.\n",
      " |      \n",
      " |      The sort is in-place (i.e. the list itself is modified) and stable (i.e. the\n",
      " |      order of two equal elements is maintained).\n",
      " |      \n",
      " |      If a key function is given, apply it once to each list item and sort them,\n",
      " |      ascending or descending, according to their function values.\n",
      " |      \n",
      " |      The reverse flag can be set to sort in descending order.\n",
      " |  \n",
      " |  ----------------------------------------------------------------------\n",
      " |  Class methods defined here:\n",
      " |  \n",
      " |  __class_getitem__(...) from builtins.type\n",
      " |      See PEP 585\n",
      " |  \n",
      " |  ----------------------------------------------------------------------\n",
      " |  Static methods defined here:\n",
      " |  \n",
      " |  __new__(*args, **kwargs) from builtins.type\n",
      " |      Create and return a new object.  See help(type) for accurate signature.\n",
      " |  \n",
      " |  ----------------------------------------------------------------------\n",
      " |  Data and other attributes defined here:\n",
      " |  \n",
      " |  __hash__ = None\n",
      "\n"
     ]
    }
   ],
   "source": [
    "help(list)"
   ]
  },
  {
   "cell_type": "markdown",
   "id": "14d2d5f7-e89e-4653-a4f1-e0dd783ec951",
   "metadata": {},
   "source": [
    "- Les commandes dir et help sont les premières commandes à lancer lorsque vous ne comprenez pas comment utiliser une méthode d'une classe ou lorsque vous ne vous souvenez plus du nom d'une méthode.\n",
    "- À l'aide des commandes dir et help, trouver une méthode qui va inverser l'ordre des éléments de la liste liste_1."
   ]
  },
  {
   "cell_type": "code",
   "execution_count": 27,
   "id": "c7e0c8c0-38cf-4a62-ba44-cb229c4e2648",
   "metadata": {},
   "outputs": [
    {
     "data": {
      "text/plain": [
       "[9, 8, 7, 6, 5, 4, 3, 2, 1]"
      ]
     },
     "execution_count": 27,
     "metadata": {},
     "output_type": "execute_result"
    }
   ],
   "source": [
    "liste_1 = [1, 2, 3, 4, 5, 6, 7, 8, 9]\n",
    "\n",
    "liste_1.reverse() # inverse l'ordre des éléments de la liste. Cette méthode MODIFIE la liste qui l'a appelée.\n",
    "\n",
    "liste_1"
   ]
  },
  {
   "cell_type": "markdown",
   "id": "04580481-9c60-4a5e-ad80-79bdc884cc39",
   "metadata": {},
   "source": [
    "- À l'aide des commandes dir et help, trouver une méthode qui va insérer la valeur 10 en cinquième position de la liste liste_2."
   ]
  },
  {
   "cell_type": "code",
   "execution_count": 28,
   "id": "bfb95dfd-d283-4372-aa10-d9099f0af0d9",
   "metadata": {},
   "outputs": [
    {
     "data": {
      "text/plain": [
       "[1, 2, 3, 4, 10, 5, 6, 7, 8, 9]"
      ]
     },
     "execution_count": 28,
     "metadata": {},
     "output_type": "execute_result"
    }
   ],
   "source": [
    "liste_2 = [1, 2, 3, 4, 5, 6, 7, 8, 9]\n",
    "\n",
    "liste_2.insert(4, 10) # insère l'entier 10 à l'indice 4 (cinquième position) de la liste.\n",
    "\n",
    "liste_2"
   ]
  },
  {
   "cell_type": "markdown",
   "id": "3ff5d1b4-c5f1-4351-b8ef-0843326d3005",
   "metadata": {},
   "source": [
    "- À l'aide des commandes dir et help, trouver une méthode qui va trier la liste liste_3."
   ]
  },
  {
   "cell_type": "code",
   "execution_count": 29,
   "id": "2a9b6afb-bd69-4fd0-8c94-6124e9c9b267",
   "metadata": {},
   "outputs": [
    {
     "data": {
      "text/plain": [
       "[1, 2, 3, 4, 5, 6, 7, 8, 9, 10]"
      ]
     },
     "execution_count": 29,
     "metadata": {},
     "output_type": "execute_result"
    }
   ],
   "source": [
    "liste_3 = [5, 2, 4, 9, 6, 7, 8, 3, 10, 1]\n",
    "\n",
    "liste_3.sort() # trie les éléments de la liste par ordre croissant. Cette méthode MODIFIE la liste qui l'a appelée.\n",
    "\n",
    "liste_3"
   ]
  },
  {
   "cell_type": "markdown",
   "id": "d1e1d1b1-a457-4eed-a303-8ba94e6e2ab4",
   "metadata": {},
   "source": [
    "### La classe DataFrame\n",
    "Le package pandas contient une classe nommée DataFrame dont l'utilité en fait le package le plus utilisé par les datascientists pour manipuler des données.\n",
    "\n",
    "Pour utiliser le package pandas, il faut d'abord l'importer. Ensuite, pour instancier un DataFrame, il faut appeler son constructeur défini dans le package pandas.\n",
    "\n",
    "- Importer le package pandas sous l'alias pd.\n",
    "- Instancier un DataFrame vide grâce au constructeur contenu dans le package pandas. Ce DataFrame portera le nom df."
   ]
  },
  {
   "cell_type": "code",
   "execution_count": 31,
   "id": "f8f61d95-1d63-48a3-bbd7-34f74f4559f0",
   "metadata": {},
   "outputs": [],
   "source": [
    "import pandas as pd\n",
    "df = pd.DataFrame()  # création d'un df vide"
   ]
  },
  {
   "cell_type": "markdown",
   "id": "1b728266-1bf4-4d3d-948f-06483a55c39d",
   "metadata": {},
   "source": [
    "Si vous lancez l'instruction dir(df) ou dir(pd.DataFrame), vous verrez que la classe DataFrame possède énormément de méthodes et attributs. Il est très difficile de tous les retenir, d'où l'utilité des commandes dir et help.\n",
    "\n",
    "Néanmoins, au vu de la longueur de la documentation, il n'est pas pratique d'utiliser directement la commande dir(df) ou help(df). Pour avoir accès directement à la documentation d'une méthode spécifique, vous pouvez plutôt utiliser la commande dir avec l'argument objet.nom_methode.\n",
    "\n",
    "- En vous aidant de la commande help(pd.DataFrame), construire un DataFrame nommé df1 grâce à la liste liste_4."
   ]
  },
  {
   "cell_type": "code",
   "execution_count": 34,
   "id": "291aa9ae-527d-4d6b-8207-3cf7b1d1f3ce",
   "metadata": {},
   "outputs": [],
   "source": [
    "# help(df)  => très longue aide"
   ]
  },
  {
   "cell_type": "code",
   "execution_count": 37,
   "id": "d21aaf06-0c94-4e25-9fad-5057fab6d2cd",
   "metadata": {},
   "outputs": [
    {
     "data": {
      "text/html": [
       "<div>\n",
       "<style scoped>\n",
       "    .dataframe tbody tr th:only-of-type {\n",
       "        vertical-align: middle;\n",
       "    }\n",
       "\n",
       "    .dataframe tbody tr th {\n",
       "        vertical-align: top;\n",
       "    }\n",
       "\n",
       "    .dataframe thead th {\n",
       "        text-align: right;\n",
       "    }\n",
       "</style>\n",
       "<table border=\"1\" class=\"dataframe\">\n",
       "  <thead>\n",
       "    <tr style=\"text-align: right;\">\n",
       "      <th></th>\n",
       "      <th>0</th>\n",
       "    </tr>\n",
       "  </thead>\n",
       "  <tbody>\n",
       "    <tr>\n",
       "      <th>0</th>\n",
       "      <td>1.0</td>\n",
       "    </tr>\n",
       "    <tr>\n",
       "      <th>1</th>\n",
       "      <td>5.0</td>\n",
       "    </tr>\n",
       "    <tr>\n",
       "      <th>2</th>\n",
       "      <td>45.0</td>\n",
       "    </tr>\n",
       "    <tr>\n",
       "      <th>3</th>\n",
       "      <td>42.0</td>\n",
       "    </tr>\n",
       "    <tr>\n",
       "      <th>4</th>\n",
       "      <td>NaN</td>\n",
       "    </tr>\n",
       "    <tr>\n",
       "      <th>5</th>\n",
       "      <td>123.0</td>\n",
       "    </tr>\n",
       "    <tr>\n",
       "      <th>6</th>\n",
       "      <td>4213.0</td>\n",
       "    </tr>\n",
       "    <tr>\n",
       "      <th>7</th>\n",
       "      <td>NaN</td>\n",
       "    </tr>\n",
       "    <tr>\n",
       "      <th>8</th>\n",
       "      <td>213.0</td>\n",
       "    </tr>\n",
       "  </tbody>\n",
       "</table>\n",
       "</div>"
      ],
      "text/plain": [
       "        0\n",
       "0     1.0\n",
       "1     5.0\n",
       "2    45.0\n",
       "3    42.0\n",
       "4     NaN\n",
       "5   123.0\n",
       "6  4213.0\n",
       "7     NaN\n",
       "8   213.0"
      ]
     },
     "execution_count": 37,
     "metadata": {},
     "output_type": "execute_result"
    }
   ],
   "source": [
    "liste_4 = [1, 5, 45, 42,None, 123, 4213 ,None, 213]\n",
    "df1 = pd.DataFrame(liste_4)\n",
    "df1"
   ]
  },
  {
   "cell_type": "markdown",
   "id": "46a3ba0e-baba-485d-b895-5e8bc6f9486f",
   "metadata": {},
   "source": [
    "En affichant la DataFrame df1, vous pouvez apercevoir que certaines de ses valeurs sont affectées à NaN. En pratique, cela arrive très souvent lorsque la base de données est brute. La classe DataFrame contient une méthode très simple pour se débarasser de ces valeurs manquantes : la méthode dropna.\n",
    "\n",
    "     - Contrairement aux méthodes de la classe list, les méthodes de la classe DataFrame ne modifient pas l'instance appelant la méthode. Ces méthodes renvoient une nouvelle DataFrame sur laquelle la méthode sera appliquée. Il faudra systématiquement stocker cette nouvelle DataFrame pour conserver le résultat de la méthode.\n",
    "- En utilisant la méthode dropna de la classe DataFrame, créer une nouvelle DataFrame nommée df2 qui ne contiendra pas de valeurs manquantes."
   ]
  },
  {
   "cell_type": "code",
   "execution_count": 40,
   "id": "d0a461bc-95b2-475b-8e0a-467900d91901",
   "metadata": {},
   "outputs": [
    {
     "name": "stdout",
     "output_type": "stream",
     "text": [
      "(9, 0)\n",
      "Empty DataFrame\n",
      "Columns: []\n",
      "Index: [0, 1, 2, 3, 4, 5, 6, 7, 8]\n"
     ]
    },
    {
     "data": {
      "text/html": [
       "<div>\n",
       "<style scoped>\n",
       "    .dataframe tbody tr th:only-of-type {\n",
       "        vertical-align: middle;\n",
       "    }\n",
       "\n",
       "    .dataframe tbody tr th {\n",
       "        vertical-align: top;\n",
       "    }\n",
       "\n",
       "    .dataframe thead th {\n",
       "        text-align: right;\n",
       "    }\n",
       "</style>\n",
       "<table border=\"1\" class=\"dataframe\">\n",
       "  <thead>\n",
       "    <tr style=\"text-align: right;\">\n",
       "      <th></th>\n",
       "    </tr>\n",
       "  </thead>\n",
       "  <tbody>\n",
       "    <tr>\n",
       "      <th>0</th>\n",
       "    </tr>\n",
       "    <tr>\n",
       "      <th>1</th>\n",
       "    </tr>\n",
       "    <tr>\n",
       "      <th>2</th>\n",
       "    </tr>\n",
       "    <tr>\n",
       "      <th>3</th>\n",
       "    </tr>\n",
       "    <tr>\n",
       "      <th>4</th>\n",
       "    </tr>\n",
       "    <tr>\n",
       "      <th>5</th>\n",
       "    </tr>\n",
       "    <tr>\n",
       "      <th>6</th>\n",
       "    </tr>\n",
       "    <tr>\n",
       "      <th>7</th>\n",
       "    </tr>\n",
       "    <tr>\n",
       "      <th>8</th>\n",
       "    </tr>\n",
       "  </tbody>\n",
       "</table>\n",
       "</div>"
      ],
      "text/plain": [
       "Empty DataFrame\n",
       "Columns: []\n",
       "Index: [0, 1, 2, 3, 4, 5, 6, 7, 8]"
      ]
     },
     "execution_count": 40,
     "metadata": {},
     "output_type": "execute_result"
    }
   ],
   "source": [
    "df2 = df1.dropna(axis=1)  # bizarre qu'avec axis=1 cela élimine la colonne entiere !!!\n",
    "print(df2.shape)\n",
    "print(df2.head(10))\n",
    "df2"
   ]
  },
  {
   "cell_type": "code",
   "execution_count": 42,
   "id": "9c9836b8-3aca-451f-b976-3b94480d92f6",
   "metadata": {},
   "outputs": [
    {
     "data": {
      "text/plain": [
       "'1.3.0'"
      ]
     },
     "execution_count": 42,
     "metadata": {},
     "output_type": "execute_result"
    }
   ],
   "source": [
    "pd.__version__  # 1.3.0 ici, 1.1.5 chez DS et 2.6.1 normale... !!!"
   ]
  },
  {
   "cell_type": "code",
   "execution_count": 41,
   "id": "5b6ebcfb-3904-4bc5-8686-a2afec339b11",
   "metadata": {},
   "outputs": [
    {
     "name": "stdout",
     "output_type": "stream",
     "text": [
      "(7, 1)\n",
      "        0\n",
      "0     1.0\n",
      "1     5.0\n",
      "2    45.0\n",
      "3    42.0\n",
      "5   123.0\n",
      "6  4213.0\n",
      "8   213.0\n"
     ]
    },
    {
     "data": {
      "text/html": [
       "<div>\n",
       "<style scoped>\n",
       "    .dataframe tbody tr th:only-of-type {\n",
       "        vertical-align: middle;\n",
       "    }\n",
       "\n",
       "    .dataframe tbody tr th {\n",
       "        vertical-align: top;\n",
       "    }\n",
       "\n",
       "    .dataframe thead th {\n",
       "        text-align: right;\n",
       "    }\n",
       "</style>\n",
       "<table border=\"1\" class=\"dataframe\">\n",
       "  <thead>\n",
       "    <tr style=\"text-align: right;\">\n",
       "      <th></th>\n",
       "      <th>0</th>\n",
       "    </tr>\n",
       "  </thead>\n",
       "  <tbody>\n",
       "    <tr>\n",
       "      <th>0</th>\n",
       "      <td>1.0</td>\n",
       "    </tr>\n",
       "    <tr>\n",
       "      <th>1</th>\n",
       "      <td>5.0</td>\n",
       "    </tr>\n",
       "    <tr>\n",
       "      <th>2</th>\n",
       "      <td>45.0</td>\n",
       "    </tr>\n",
       "    <tr>\n",
       "      <th>3</th>\n",
       "      <td>42.0</td>\n",
       "    </tr>\n",
       "    <tr>\n",
       "      <th>5</th>\n",
       "      <td>123.0</td>\n",
       "    </tr>\n",
       "    <tr>\n",
       "      <th>6</th>\n",
       "      <td>4213.0</td>\n",
       "    </tr>\n",
       "    <tr>\n",
       "      <th>8</th>\n",
       "      <td>213.0</td>\n",
       "    </tr>\n",
       "  </tbody>\n",
       "</table>\n",
       "</div>"
      ],
      "text/plain": [
       "        0\n",
       "0     1.0\n",
       "1     5.0\n",
       "2    45.0\n",
       "3    42.0\n",
       "5   123.0\n",
       "6  4213.0\n",
       "8   213.0"
      ]
     },
     "execution_count": 41,
     "metadata": {},
     "output_type": "execute_result"
    }
   ],
   "source": [
    "df2 = df1.dropna()  # Appel de la méthode dropna de la classe DataFrame\n",
    "print(df2.shape)\n",
    "print(df2.head(10))\n",
    "df2"
   ]
  },
  {
   "cell_type": "markdown",
   "id": "60cdd341-2296-4295-af9c-844e9ad11d5c",
   "metadata": {},
   "source": [
    "Une autre méthode de la classe DataFrame qui est très utilisée est la **méthode apply**.   \n",
    "Cette méthode permet d'appliquer une fonction passée en argument à toutes les cases du DataFrame appelant la méthode.\n",
    "\n",
    "- Définir une fonction divise2 qui retourne la division par 2 de l'argument passé en paramètre.\n",
    "- Créer un DataFrame nommé df3 qui contiendra les valeurs de df2 que l'on aura divisé par 2."
   ]
  },
  {
   "cell_type": "code",
   "execution_count": 43,
   "id": "72b1e6dc-42bd-4fe1-bd38-734d61d068f1",
   "metadata": {},
   "outputs": [
    {
     "data": {
      "text/html": [
       "<div>\n",
       "<style scoped>\n",
       "    .dataframe tbody tr th:only-of-type {\n",
       "        vertical-align: middle;\n",
       "    }\n",
       "\n",
       "    .dataframe tbody tr th {\n",
       "        vertical-align: top;\n",
       "    }\n",
       "\n",
       "    .dataframe thead th {\n",
       "        text-align: right;\n",
       "    }\n",
       "</style>\n",
       "<table border=\"1\" class=\"dataframe\">\n",
       "  <thead>\n",
       "    <tr style=\"text-align: right;\">\n",
       "      <th></th>\n",
       "      <th>0</th>\n",
       "    </tr>\n",
       "  </thead>\n",
       "  <tbody>\n",
       "    <tr>\n",
       "      <th>0</th>\n",
       "      <td>0.5</td>\n",
       "    </tr>\n",
       "    <tr>\n",
       "      <th>1</th>\n",
       "      <td>2.5</td>\n",
       "    </tr>\n",
       "    <tr>\n",
       "      <th>2</th>\n",
       "      <td>22.5</td>\n",
       "    </tr>\n",
       "    <tr>\n",
       "      <th>3</th>\n",
       "      <td>21.0</td>\n",
       "    </tr>\n",
       "    <tr>\n",
       "      <th>5</th>\n",
       "      <td>61.5</td>\n",
       "    </tr>\n",
       "    <tr>\n",
       "      <th>6</th>\n",
       "      <td>2106.5</td>\n",
       "    </tr>\n",
       "    <tr>\n",
       "      <th>8</th>\n",
       "      <td>106.5</td>\n",
       "    </tr>\n",
       "  </tbody>\n",
       "</table>\n",
       "</div>"
      ],
      "text/plain": [
       "        0\n",
       "0     0.5\n",
       "1     2.5\n",
       "2    22.5\n",
       "3    21.0\n",
       "5    61.5\n",
       "6  2106.5\n",
       "8   106.5"
      ]
     },
     "execution_count": 43,
     "metadata": {},
     "output_type": "execute_result"
    }
   ],
   "source": [
    "def divise2(x):   # Définition de la fonction que nous allons appliquer aux cellules du DataFrame\n",
    "    return x/2\n",
    "\n",
    "df3 = df2.apply(divise2)  # Application de la fonction divise2 à toutes les cellules du DataFrame\n",
    "\n",
    "df3"
   ]
  },
  {
   "cell_type": "markdown",
   "id": "fce0189b-4093-4677-9605-bb1aba162cc8",
   "metadata": {},
   "source": [
    "La classe DataFrame possède de nombreuses méthodes comme apply ou dropna que vous aborderez plus en profondeur dans le module dédié au package pandas. La classe list étant trop basique pour les besoins des datascientists, ces méthodes font de la classe DataFrame la référence pour manipuler facilement des données.\n",
    "\n",
    "Tous les packages que vous serez invités à utiliser dans votre formation seront manipulés comme des objets, c'est-à-dire qu'il faudra d'abord initialiser un objet de la classe (DataFrame, Scikit Model, Python Plot, ...) puis faire appel aux méthodes définies dans la classe.\n",
    "\n",
    "Les commandes dir et help vous accompagneront dans la manipulation de ces classes. N'oubliez pas de les utiliser régulièrement!"
   ]
  },
  {
   "cell_type": "markdown",
   "id": "abf4ae0a-1112-4676-9336-9b321d448156",
   "metadata": {},
   "source": [
    "## Built-in methods \n",
    "### Les méthodes prédéfinies\n",
    "Les classes définies en Python ont des méthodes dont le nom est déja défini. Le premier exemple de méthode de ce type que nous avons vu est la méthode __init__ qui permet d'initialiser un objet, mais ce n'est pas la seule.\n",
    "\n",
    "Ces méthodes donnent à la classe la possibilité d'interagir avec des fonctions Python prédéfinies telles que print, len, help et les opérateurs de bases. Ces méthodes ont en général les affixes __ au début et à la fin de leurs noms, ce qui nous permet de les identifier facilement.\n",
    "\n",
    "- Grâce à la commande dir(object), nous pouvons avoir un aperçu de quelques méthodes prédéfinies communes à tous les objets Python."
   ]
  },
  {
   "cell_type": "code",
   "execution_count": 44,
   "id": "bdf8e8da-90f4-48d2-962d-1be263dab10b",
   "metadata": {},
   "outputs": [
    {
     "data": {
      "text/plain": [
       "['__class__',\n",
       " '__delattr__',\n",
       " '__dir__',\n",
       " '__doc__',\n",
       " '__eq__',\n",
       " '__format__',\n",
       " '__ge__',\n",
       " '__getattribute__',\n",
       " '__gt__',\n",
       " '__hash__',\n",
       " '__init__',\n",
       " '__init_subclass__',\n",
       " '__le__',\n",
       " '__lt__',\n",
       " '__ne__',\n",
       " '__new__',\n",
       " '__reduce__',\n",
       " '__reduce_ex__',\n",
       " '__repr__',\n",
       " '__setattr__',\n",
       " '__sizeof__',\n",
       " '__str__',\n",
       " '__subclasshook__']"
      ]
     },
     "execution_count": 44,
     "metadata": {},
     "output_type": "execute_result"
    }
   ],
   "source": [
    "dir(object)"
   ]
  },
  {
   "cell_type": "markdown",
   "id": "6ff90b9e-f2df-4e7c-88ae-8eff4cceaf7f",
   "metadata": {},
   "source": [
    "## La méthode str\n",
    "Une des méthodes les plus pratiques est la méthode __str__ qui est appelée automatiquement lorsque l'utilisateur lance la commande print sur un objet. Cette méthode renvoie une chaîne de caractère qui représente l'objet l'ayant appelé.\n",
    "\n",
    "Toutes les classes en Python sur lesquelles nous pouvons appliquer la fonction print ont cette méthode dans leur définition."
   ]
  },
  {
   "cell_type": "code",
   "execution_count": 45,
   "id": "a0e8fedd-1f50-4273-b2bb-e85526bae1e7",
   "metadata": {},
   "outputs": [
    {
     "data": {
      "text/plain": [
       "'10'"
      ]
     },
     "execution_count": 45,
     "metadata": {},
     "output_type": "execute_result"
    }
   ],
   "source": [
    "# La classe int\n",
    "i = 10\n",
    "i.__str__()"
   ]
  },
  {
   "cell_type": "code",
   "execution_count": 46,
   "id": "10f061be-fd3b-4ca6-bad5-63101edfcba4",
   "metadata": {},
   "outputs": [
    {
     "data": {
      "text/plain": [
       "'[1, 2, 3, 4, 5, 6]'"
      ]
     },
     "execution_count": 46,
     "metadata": {},
     "output_type": "execute_result"
    }
   ],
   "source": [
    "# La classe list\n",
    "\n",
    "tab = [1, 2 , 3, 4, 5, 6]\n",
    "tab.__str__()"
   ]
  },
  {
   "cell_type": "markdown",
   "id": "1d7601a0-b048-41bd-8285-57eead38c45e",
   "metadata": {},
   "source": [
    "Lorsque nous définissons notre propre classe, il est préférable de lui définir une méthode __str__ plutôt qu'une méthode de type afficher comme nous l'avons fait précédemment. Ceci permettra à tous les futurs utilisateurs d'utiliser directement la fonction print pour afficher l'objet sur la console.\n",
    "\n",
    "Nous allons reprendre la classe Complexe que nous avions défini dans le premier module d'introduction à la programmation orientée objet:"
   ]
  },
  {
   "cell_type": "code",
   "execution_count": 47,
   "id": "b559e33f-2aca-48ba-9e46-663573622f8e",
   "metadata": {},
   "outputs": [],
   "source": [
    "class Complexe:\n",
    "        def __init__(self, a = 0, b = 0):\n",
    "            self.partie_re = a        # Initialisation de la partie réelle\n",
    "            self.partie_im = b        # Initialisation de la partie imaginaire\n",
    "        def afficher(self):\n",
    "            if(self.partie_im < 0):\n",
    "                print(self.partie_re, self.partie_im, 'i')   # Affichage de a - bi si b < 0\n",
    "            if(self.partie_im == 0):\n",
    "                print(self.partie_re)                              # Affichage de a si b = 0\n",
    "            if(self.partie_im > 0):\n",
    "                print(self.partie_re, '+', self.partie_im, 'i')    # Affichage de a - bi si b < 0"
   ]
  },
  {
   "cell_type": "markdown",
   "id": "b921d903-374b-4efd-a33f-da90c48ae52b",
   "metadata": {},
   "source": [
    "- Définir dans la classe Complexe la méthode __str__ qui doit renvoyer une chaîne de caractères correspondant à la représentation algébrique  a+bia+bi  d'un nombre complexe. Cette méthode remplacera la méthode afficher.   \n",
    "     - Pour obtenir la représentation en chaîne de caractères d'un nombre, vous pouvez appeler sa méthode str.\n",
    "- Instancier un Complexe correspondant au nombre  6−3i6−3i  puis l'afficher sur la console à l'aide de la fonction print."
   ]
  },
  {
   "cell_type": "code",
   "execution_count": 48,
   "id": "9af2444a-611c-4b8f-8918-e6a0dc41e32e",
   "metadata": {},
   "outputs": [
    {
     "name": "stdout",
     "output_type": "stream",
     "text": [
      "6-3i\n"
     ]
    }
   ],
   "source": [
    "class Complexe:\n",
    "    def __init__(self, a = 0, b = 0):\n",
    "        self.partie_re = a\n",
    "        self.partie_im = b\n",
    "    \n",
    "    def __str__(self):\n",
    "        if(self.partie_im < 0):\n",
    "            return self.partie_re.__str__() + self.partie_im.__str__() + 'i'  # renvoie 'a' '-b' 'i'\n",
    "        \n",
    "        if(self.partie_im == 0):\n",
    "            return self.partie_re.__str__()    # renvoie 'a'\n",
    "        \n",
    "        if(self.partie_im > 0):\n",
    "            return self.partie_re.__str__() + '+' + self.partie_im.__str__() + 'i' # renvoie 'a' '+' 'b' + 'i'\n",
    "        \n",
    "z = Complexe(6, -3)\n",
    "print(z)"
   ]
  },
  {
   "cell_type": "markdown",
   "id": "1bb4e671-e447-4a10-a0d8-5cc50c3a9a67",
   "metadata": {},
   "source": [
    "## Les méthodes de comparaison\n",
    "Comme pour les classes int ou float, nous aimerions pouvoir comparer les objets de la classe Complexe entre eux, c'est-à-dire pouvoir utiliser les opérateurs de comparaison (>, <, ==, !=, ...). Pour cela, les développeurs Python ont prévu les méthodes suivantes:\n",
    "\n",
    "__le__ / __ge__': lesser or equal / greater or equal\n",
    "__lt__ / __gt__: lesser than / greater than\n",
    "__eq__ / __ne__ : equals / not equal\n",
    "- Ces méthodes sont automatiquement appelés lorsque les opérateurs de comparaison sont utilisés et renvoient un booléen (True ou False)."
   ]
  },
  {
   "cell_type": "code",
   "execution_count": 49,
   "id": "45c6b972-1829-42c6-bdcb-beaac81842f6",
   "metadata": {},
   "outputs": [
    {
     "name": "stdout",
     "output_type": "stream",
     "text": [
      "True\n",
      "True\n",
      "False\n",
      "False\n"
     ]
    }
   ],
   "source": [
    "x = 5\n",
    "y = 3\n",
    "\n",
    "print(x > y)  # True\n",
    "\n",
    "print(x.__gt__(y)) # True   \n",
    "                                # Ces deux types d'écriture sont strictement équivalents\n",
    "print(x < y) # False\n",
    "\n",
    "print(x.__lt__(y)) # False"
   ]
  },
  {
   "cell_type": "markdown",
   "id": "ce197987-4e6e-4e2a-8874-7bac08457b2c",
   "metadata": {},
   "source": [
    "- Pour la classe Complexe, nous allons faire la comparaison grâce au module calculé par la formule  |a+bi| = √(a²+b² )\n",
    "- Définir dans la classe Complexe une méthode mod qui renvoie le module du Complexe appelant la méthode. Vous pourrez utiliser la fonction sqrt du package numpy pour calculer une racine carrée.\n",
    "- Définir dans la classe Complexe les méthodes __lt__ et __gt__ (strictement inférieur et strictement supérieur). Ces méthodes doivent retourner un booléen.\n",
    "- Effectuer les deux comparaisons sur les nombres complexes  3+4i  et  2−5i"
   ]
  },
  {
   "cell_type": "code",
   "execution_count": 51,
   "id": "66bcde56-9178-4c85-8c63-78dc10a6bcce",
   "metadata": {},
   "outputs": [
    {
     "name": "stdout",
     "output_type": "stream",
     "text": [
      "False\n",
      "True\n"
     ]
    }
   ],
   "source": [
    "import numpy as np\n",
    "\n",
    "class Complexe:\n",
    "    def __init__(self, a = 0, b = 0):\n",
    "        self.partie_re = a\n",
    "        self.partie_im = b\n",
    "    \n",
    "    def __str__(self):\n",
    "        if(self.partie_im < 0):\n",
    "            return self.partie_re.__str__() + self.partie_im.__str__() + 'i' \n",
    "        \n",
    "        if(self.partie_im == 0):\n",
    "            return self.partie_re.__str__()    \n",
    "        \n",
    "        if(self.partie_im > 0):\n",
    "            return self.partie_re.__str__() + '+' + self.partie_im.__str__() + 'i' \n",
    "        \n",
    "    def mod(self):\n",
    "        return np.sqrt( self.partie_re ** 2 + self.partie_im ** 2)  # renvoie (sqrt(a² + b²))\n",
    "    \n",
    "    def __lt__(self, other):    \n",
    "        if( self.mod() < other.mod()):   # renvoie True si |self| < |other|\n",
    "            return True\n",
    "        else:\n",
    "            return False\n",
    "        \n",
    "    def __gt__(self, other):\n",
    "        if( self.mod() > other.mod()):   # renvoie True si |self| > |other|\n",
    "            return True\n",
    "        else:\n",
    "            return False\n",
    "        \n",
    "        \n",
    "z1 = Complexe(3, 4)\n",
    "z2 = Complexe(2, 5)\n",
    "print(z1 > z2)\n",
    "print(z1 < z2)\n",
    "        "
   ]
  },
  {
   "cell_type": "code",
   "execution_count": null,
   "id": "4ec29f4c-36f0-4e8a-9a84-4889038a7273",
   "metadata": {},
   "outputs": [],
   "source": []
  }
 ],
 "metadata": {
  "kernelspec": {
   "display_name": "Python 3 (ipykernel)",
   "language": "python",
   "name": "python3"
  },
  "language_info": {
   "codemirror_mode": {
    "name": "ipython",
    "version": 3
   },
   "file_extension": ".py",
   "mimetype": "text/x-python",
   "name": "python",
   "nbconvert_exporter": "python",
   "pygments_lexer": "ipython3",
   "version": "3.9.13"
  }
 },
 "nbformat": 4,
 "nbformat_minor": 5
}
